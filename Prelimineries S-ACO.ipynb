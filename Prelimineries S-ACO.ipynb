{
 "cells": [
  {
   "cell_type": "code",
   "execution_count": 115,
   "metadata": {},
   "outputs": [],
   "source": [
    "import numpy as np\n",
    "import math\n",
    "import random"
   ]
  },
  {
   "cell_type": "code",
   "execution_count": 116,
   "metadata": {},
   "outputs": [],
   "source": [
    "class Ant:\n",
    "    def __init__(self, ):\n",
    "        pass\n",
    "        \n",
    "    def routeprob(self, ):\n",
    "        pass\n",
    "    \n",
    "    def chooseRoute(self, ):\n",
    "        pass\n",
    "    \n",
    "    def xloops(self, ):\n",
    "        pass\n",
    "    \n",
    "    def addpheromone(self, ):\n",
    "        pass\n",
    "    \n",
    "    "
   ]
  },
  {
   "cell_type": "markdown",
   "metadata": {},
   "source": [
    "# Define Pheromone and Graph Matrix"
   ]
  },
  {
   "cell_type": "code",
   "execution_count": 117,
   "metadata": {},
   "outputs": [],
   "source": [
    "# Define an initial pheromone matrix of all ones \n",
    "\n",
    "hobs= 6\n",
    "\n",
    "PMatrix = [[1 for i in range(hobs)] for j in range(hobs)]"
   ]
  },
  {
   "cell_type": "code",
   "execution_count": 118,
   "metadata": {},
   "outputs": [
    {
     "data": {
      "text/plain": [
       "[[1, 1, 1, 1, 1, 1],\n",
       " [1, 1, 1, 1, 1, 1],\n",
       " [1, 1, 1, 1, 1, 1],\n",
       " [1, 1, 1, 1, 1, 1],\n",
       " [1, 1, 1, 1, 1, 1],\n",
       " [1, 1, 1, 1, 1, 1]]"
      ]
     },
     "execution_count": 118,
     "metadata": {},
     "output_type": "execute_result"
    }
   ],
   "source": [
    "PMatrix"
   ]
  },
  {
   "cell_type": "code",
   "execution_count": 119,
   "metadata": {},
   "outputs": [],
   "source": [
    "# Define route matrix\n",
    "\n",
    "def Graph(hobs):\n",
    "    g = []\n",
    "    \n",
    "    for i in range(hobs):\n",
    "        g.append([])\n",
    "        \n",
    "        for j in range(hobs):\n",
    "            if i==j :\n",
    "                g[i].append(0)\n",
    "            else:\n",
    "                g[i].append(random.choice([0,1]))\n",
    "    return g\n",
    "            "
   ]
  },
  {
   "cell_type": "code",
   "execution_count": 120,
   "metadata": {},
   "outputs": [
    {
     "data": {
      "text/plain": [
       "[[0, 0, 1, 1, 1, 1],\n",
       " [1, 0, 1, 0, 1, 0],\n",
       " [1, 0, 0, 0, 0, 1],\n",
       " [1, 0, 0, 0, 0, 1],\n",
       " [1, 1, 0, 1, 0, 0],\n",
       " [1, 0, 1, 0, 1, 0]]"
      ]
     },
     "execution_count": 120,
     "metadata": {},
     "output_type": "execute_result"
    }
   ],
   "source": [
    "Graph(hobs)"
   ]
  },
  {
   "cell_type": "code",
   "execution_count": 121,
   "metadata": {},
   "outputs": [],
   "source": [
    "def Graph(dim):\n",
    "    \n",
    "    b = [(i, str(i)) for i in range(dim)]   \n",
    "    matrix = []\n",
    "    \n",
    "    for i,j in b:\n",
    "        j=[]\n",
    "        if i == 0:\n",
    "            j.append(0)\n",
    "            matrix.append(j)\n",
    "        else:\n",
    "            for k in range(i+1):\n",
    "                if k == i:\n",
    "                    j.append(0)\n",
    "                else:\n",
    "                    j.append(random.choice([0,1]))\n",
    "            matrix.append(j)\n",
    "            \n",
    "    M = matrix        \n",
    "    for i in range(len(M)):\n",
    "        \n",
    "        for j in range(1,len(M)-len(M[i])+1):\n",
    "            M[i].append(M[i+j][i]) \n",
    "            \n",
    "    return M\n"
   ]
  },
  {
   "cell_type": "code",
   "execution_count": 122,
   "metadata": {},
   "outputs": [
    {
     "data": {
      "text/plain": [
       "[[0, 1, 1, 0, 0, 0],\n",
       " [1, 0, 1, 0, 0, 0],\n",
       " [1, 1, 0, 1, 1, 0],\n",
       " [0, 0, 1, 0, 1, 1],\n",
       " [0, 0, 1, 1, 0, 1],\n",
       " [0, 0, 0, 1, 1, 0]]"
      ]
     },
     "execution_count": 122,
     "metadata": {},
     "output_type": "execute_result"
    }
   ],
   "source": [
    "random.seed(11)\n",
    "G = Graph(hobs)\n",
    "G"
   ]
  },
  {
   "cell_type": "code",
   "execution_count": 123,
   "metadata": {},
   "outputs": [
    {
     "name": "stdout",
     "output_type": "stream",
     "text": [
      "[0, 1, 0, 1, 1, 0]\n",
      "[1, 1, 1, 1, 1, 1]\n"
     ]
    }
   ],
   "source": [
    "# find connections e.g get all connections for node 2\n",
    "prev = 0\n",
    "pres = 2\n",
    "C = G[pres]\n",
    "C[prev] = 0  # set previous connection to zero equivqlent to removal\n",
    "\n",
    "print(C)\n",
    "print(PMatrix[pres])\n"
   ]
  },
  {
   "cell_type": "code",
   "execution_count": 124,
   "metadata": {},
   "outputs": [
    {
     "data": {
      "text/plain": [
       "1"
      ]
     },
     "execution_count": 124,
     "metadata": {},
     "output_type": "execute_result"
    }
   ],
   "source": [
    "PMatrix[pres][0]"
   ]
  },
  {
   "cell_type": "markdown",
   "metadata": {},
   "source": [
    "# Selecting the next hob with Probability proportional to its pheromone "
   ]
  },
  {
   "cell_type": "code",
   "execution_count": 125,
   "metadata": {},
   "outputs": [
    {
     "name": "stdout",
     "output_type": "stream",
     "text": [
      "[(1, 1), (1, 3), (1, 4)]\n",
      "3\n"
     ]
    }
   ],
   "source": [
    "# sum of all pheromones in connection\n",
    "\n",
    "print([(PMatrix[pres][i], i) for i in range(len(C)) if C[i]==1]) # get pheromone and corresponding hob\n",
    "\n",
    "print(sum([PMatrix[pres][i] for i in range(len(C)) if C[i]==1]))"
   ]
  },
  {
   "cell_type": "code",
   "execution_count": 126,
   "metadata": {},
   "outputs": [
    {
     "data": {
      "text/plain": [
       "([(1, 1), (1, 3), (1, 4)],\n",
       " 3,\n",
       " [(0.3333333333333333, 1), (0.3333333333333333, 3), (0.3333333333333333, 4)])"
      ]
     },
     "execution_count": 126,
     "metadata": {},
     "output_type": "execute_result"
    }
   ],
   "source": [
    "# find probability\n",
    "\n",
    "# get pheromone and corresponding hub\n",
    "HP = [(PMatrix[pres][i], i) for i in range(len(C)) if C[i]==1]\n",
    "\n",
    "total = sum([i[0] for i in HP])\n",
    "\n",
    "# get probability for corresponding hub\n",
    "prob = [(i/total,j) for i,j in HP]\n",
    "\n",
    "HP, total, prob"
   ]
  },
  {
   "cell_type": "code",
   "execution_count": 127,
   "metadata": {},
   "outputs": [
    {
     "data": {
      "text/plain": [
       "3"
      ]
     },
     "execution_count": 127,
     "metadata": {},
     "output_type": "execute_result"
    }
   ],
   "source": [
    "# choose a hub with probability\n",
    "\n",
    "choosen = np.random.choice( [i[1] for i in prob], 1, [i[0] for i in prob] )[0]\n",
    "\n",
    "choosen "
   ]
  },
  {
   "cell_type": "code",
   "execution_count": 128,
   "metadata": {},
   "outputs": [
    {
     "data": {
      "text/plain": [
       "[0, 0, 1, 0, 1, 1]"
      ]
     },
     "execution_count": 128,
     "metadata": {},
     "output_type": "execute_result"
    }
   ],
   "source": [
    "# Existing choices for choosen\n",
    "G[choosen]"
   ]
  },
  {
   "cell_type": "code",
   "execution_count": 129,
   "metadata": {},
   "outputs": [
    {
     "data": {
      "text/plain": [
       "[0, 0, 0, 0, 1, 1]"
      ]
     },
     "execution_count": 129,
     "metadata": {},
     "output_type": "execute_result"
    }
   ],
   "source": [
    "# remove previously visited hub\n",
    "\n",
    "prev = pres\n",
    "prev, pres\n",
    "\n",
    "C = G[choosen]\n",
    "C[prev] = 0\n",
    "\n",
    "C"
   ]
  },
  {
   "cell_type": "code",
   "execution_count": 130,
   "metadata": {},
   "outputs": [
    {
     "data": {
      "text/plain": [
       "([(1, 4), (1, 5)], 2, [(0.5, 4), (0.5, 5)])"
      ]
     },
     "execution_count": 130,
     "metadata": {},
     "output_type": "execute_result"
    }
   ],
   "source": [
    "# find probability\n",
    "\n",
    "# get pheromone and corresponding hub\n",
    "HP = [(PMatrix[pres][i], i) for i in range(len(C)) if C[i]==1]\n",
    "\n",
    "total = sum([i[0] for i in HP])\n",
    "\n",
    "# get probability for corresponding hub\n",
    "prob = [(i/total,j) for i,j in HP]\n",
    "\n",
    "HP, total, prob"
   ]
  },
  {
   "cell_type": "code",
   "execution_count": 131,
   "metadata": {},
   "outputs": [
    {
     "data": {
      "text/plain": [
       "4"
      ]
     },
     "execution_count": 131,
     "metadata": {},
     "output_type": "execute_result"
    }
   ],
   "source": [
    "# choose a hub with probability\n",
    "\n",
    "choosen = np.random.choice( [i[1] for i in prob], 1, [i[0] for i in prob] )[0]\n",
    "\n",
    "choosen "
   ]
  },
  {
   "cell_type": "markdown",
   "metadata": {},
   "source": [
    "# Removing Loops"
   ]
  },
  {
   "cell_type": "code",
   "execution_count": 132,
   "metadata": {},
   "outputs": [
    {
     "data": {
      "text/plain": [
       "[1, 2, 3, 5, 4]"
      ]
     },
     "execution_count": 132,
     "metadata": {},
     "output_type": "execute_result"
    }
   ],
   "source": [
    "## remove loops from a route e.g [1,2,3,5,8,9,3,5,4] with loop [5,8,9,3] without loop should be [1,2,3,5,4]\n",
    "\n",
    "a = [1,2,3,5,8,9,3,5,4]\n",
    "l = len(a)\n",
    "\n",
    "for i in range(l):\n",
    "    for j in range(i+1,l):\n",
    "        j = l+i-j\n",
    "        \n",
    "        if j < len(a):          # list changes as loop is removed \n",
    "            if a[i] == a[j]:\n",
    "                [a.remove(k) for k in a[i+1:j+1]]\n",
    "a"
   ]
  },
  {
   "cell_type": "code",
   "execution_count": 133,
   "metadata": {},
   "outputs": [
    {
     "data": {
      "text/plain": [
       "[1, 2, 3, 5, 4]"
      ]
     },
     "execution_count": 133,
     "metadata": {},
     "output_type": "execute_result"
    }
   ],
   "source": [
    "# use a function to remove loops\n",
    "\n",
    "def Deloop(x):\n",
    "    l = len(x)\n",
    "\n",
    "    for i in range(l):\n",
    "        for j in range(i+1,l):\n",
    "            j = l+i-j\n",
    "            \n",
    "            if j < len(x):          # list changes as loop is removed \n",
    "                if x[i] == x[j]:\n",
    "                    [x.remove(k) for k in x[i+1:j+1]]\n",
    "                    \n",
    "    return x\n",
    "\n",
    "a = [1,2,3,5,8,9,3,5,4]\n",
    "Deloop(a)"
   ]
  },
  {
   "cell_type": "code",
   "execution_count": 134,
   "metadata": {},
   "outputs": [
    {
     "data": {
      "text/plain": [
       "[1, 2, 3, 5, 4]"
      ]
     },
     "execution_count": 134,
     "metadata": {},
     "output_type": "execute_result"
    }
   ],
   "source": [
    "# Alternative for fun \n",
    "\n",
    "def RDeloop(x):\n",
    "    l = len(x)\n",
    "\n",
    "    for i in range(l):\n",
    "        for j in range(i+1,l):\n",
    "            j = l+i-j\n",
    "            \n",
    "            if i == l-2:\n",
    "                print(\"here\")\n",
    "                return x\n",
    "            else:\n",
    "                if j < len(x):          # list changes as loop is removed \n",
    "                    if x[i] == x[j]:\n",
    "                        [x.remove(k) for k in x[i+1:j+1]]\n",
    "                        print(\"HERE\")\n",
    "                        RDeloop(x[i+1:])\n",
    "    return x\n",
    "\n",
    "a = [1,2,3,5,8,9,3,5,4]\n",
    "Deloop(a)"
   ]
  },
  {
   "cell_type": "code",
   "execution_count": 135,
   "metadata": {},
   "outputs": [
    {
     "name": "stdout",
     "output_type": "stream",
     "text": [
      "[1, 2, 5, 9, 10]\n",
      "here\n",
      "[1, 2, 5, 9, 10]\n"
     ]
    }
   ],
   "source": [
    "## Example for recursive Deloop\n",
    "\n",
    "a = [1,2,4,2,5,7,6,5,9,10]\n",
    "\n",
    "print(Deloop(a))\n",
    "print(RDeloop(a))"
   ]
  },
  {
   "cell_type": "markdown",
   "metadata": {},
   "source": [
    "# Pheromone update "
   ]
  },
  {
   "cell_type": "code",
   "execution_count": 136,
   "metadata": {},
   "outputs": [
    {
     "data": {
      "text/plain": [
       "[[1, 1, 1, 1, 1],\n",
       " [1, 1, 1, 1, 1],\n",
       " [1, 1, 1, 1, 1],\n",
       " [1, 1, 1, 1, 1],\n",
       " [1, 1, 1, 1, 1]]"
      ]
     },
     "execution_count": 136,
     "metadata": {},
     "output_type": "execute_result"
    }
   ],
   "source": [
    "# given a pheromone matrix and a route travelled, update the pheromone in the routes\n",
    "\n",
    "hobs = 5\n",
    "Matrix = [[1 for i in range(hobs)] for j in range(hobs)]\n",
    "Matrix"
   ]
  },
  {
   "cell_type": "code",
   "execution_count": 137,
   "metadata": {},
   "outputs": [],
   "source": [
    "route = [1,2,3,4]\n",
    "\n",
    "# pheromone update is in the arcs 1-2 or 2-1, 2-3, 3-4   \n",
    "# e.g update each pheromone by one unit"
   ]
  },
  {
   "cell_type": "code",
   "execution_count": 138,
   "metadata": {},
   "outputs": [
    {
     "data": {
      "text/plain": [
       "[[1, 2, 1, 1, 1],\n",
       " [2, 1, 2, 1, 1],\n",
       " [1, 2, 1, 2, 1],\n",
       " [1, 1, 2, 1, 1],\n",
       " [1, 1, 1, 1, 1]]"
      ]
     },
     "execution_count": 138,
     "metadata": {},
     "output_type": "execute_result"
    }
   ],
   "source": [
    "for i in range(len(route)-1):\n",
    "    \n",
    "    Matrix[i][i+1] += 1\n",
    "    Matrix[i+1][i] += 1\n",
    "    \n",
    "Matrix"
   ]
  },
  {
   "cell_type": "code",
   "execution_count": 139,
   "metadata": {},
   "outputs": [
    {
     "data": {
      "text/plain": [
       "[[1, 3, 1, 1, 1],\n",
       " [3, 1, 3, 1, 1],\n",
       " [1, 3, 1, 3, 1],\n",
       " [1, 1, 3, 1, 1],\n",
       " [1, 1, 1, 1, 1]]"
      ]
     },
     "execution_count": 139,
     "metadata": {},
     "output_type": "execute_result"
    }
   ],
   "source": [
    "def UpPheromone(route, matrix):\n",
    "    \n",
    "    for i in range(len(route)-1):\n",
    "        Matrix[i][i+1] += 1\n",
    "        Matrix[i+1][i] += 1\n",
    "    \n",
    "    return matrix\n",
    "\n",
    "UpPheromone(route, Matrix)"
   ]
  },
  {
   "cell_type": "markdown",
   "metadata": {},
   "source": [
    "# Putting things together "
   ]
  },
  {
   "cell_type": "code",
   "execution_count": 347,
   "metadata": {},
   "outputs": [],
   "source": [
    "# define pheromone matric and connection graph\n",
    "\n",
    "def FirstPheromone(hobs):\n",
    "    return [[1 for i in range(hobs)] for j in range(hobs)]\n",
    "\n",
    "# randon graph\n",
    "def Graph(dim):\n",
    "    \"\"\"dim is number of hobs\"\"\"\n",
    "    \n",
    "    b = [(i, str(i)) for i in range(dim)]   \n",
    "    matrix = []\n",
    "    \n",
    "    for i,j in b:\n",
    "        j=[]\n",
    "        if i == 0:\n",
    "            j.append(0)\n",
    "            matrix.append(j)\n",
    "        else:\n",
    "            for k in range(i+1):\n",
    "                if k == i:\n",
    "                    j.append(0)\n",
    "                else:\n",
    "                    j.append(random.choice([0,1]))\n",
    "            matrix.append(j)\n",
    "            \n",
    "    M = matrix        \n",
    "    for i in range(len(M)):\n",
    "        \n",
    "        for j in range(1,len(M)-len(M[i])+1):\n",
    "            M[i].append(M[i+j][i]) \n",
    "            \n",
    "    return M"
   ]
  },
  {
   "cell_type": "code",
   "execution_count": 348,
   "metadata": {},
   "outputs": [
    {
     "data": {
      "text/plain": [
       "([[1, 1, 1, 1, 1],\n",
       "  [1, 1, 1, 1, 1],\n",
       "  [1, 1, 1, 1, 1],\n",
       "  [1, 1, 1, 1, 1],\n",
       "  [1, 1, 1, 1, 1]],\n",
       " [[0, 1, 1, 1, 1, 0, 1, 1, 1, 0],\n",
       "  [1, 0, 0, 1, 0, 0, 1, 0, 1, 0],\n",
       "  [1, 0, 0, 0, 0, 0, 0, 0, 0, 0],\n",
       "  [1, 1, 0, 0, 0, 1, 1, 1, 0, 1],\n",
       "  [1, 0, 0, 0, 0, 1, 1, 1, 1, 0],\n",
       "  [0, 0, 0, 1, 1, 0, 1, 1, 1, 1],\n",
       "  [1, 1, 0, 1, 1, 1, 0, 0, 1, 0],\n",
       "  [1, 0, 0, 1, 1, 1, 0, 0, 0, 0],\n",
       "  [1, 1, 0, 0, 1, 1, 1, 0, 0, 1],\n",
       "  [0, 0, 0, 1, 0, 1, 0, 0, 1, 0]])"
      ]
     },
     "execution_count": 348,
     "metadata": {},
     "output_type": "execute_result"
    }
   ],
   "source": [
    "FirstPheromone(5), Graph(10)"
   ]
  },
  {
   "cell_type": "code",
   "execution_count": 414,
   "metadata": {},
   "outputs": [],
   "source": [
    "# Define path probability and choose the next path\n",
    "\n",
    "def Nexthob(phermatrix, graph, preshob, prevhob = -1):\n",
    "    \n",
    "    Cons = graph[preshob]  # obtain all connections for present hob\n",
    "    if prevhob != -1:\n",
    "        Cons[prevhob] = 0     # set previous connection to zero equivqlent to removal\n",
    "    \n",
    "    HP = [(phermatrix[preshob][i], i) for i in range(len(Cons)) if Cons[i]==1] # get pheromone and corresponding hub\n",
    "    #print(HP)\n",
    "    \n",
    "    if len(HP) == 0:    # if a dead end is met \n",
    "        # print(\"HEre\")\n",
    "        node = prevhob\n",
    "    else:\n",
    "        total = sum([i[0] for i in HP])  # total pheromone in connected hobs\n",
    "        prob = [(i/total,j) for i,j in HP] # get probability for corresponding hub\n",
    "        node = np.random.choice( [i[1] for i in prob], 1, [i[0] for i in prob] )[0] # select hob with probability\n",
    "    \n",
    "    return node, preshob\n",
    "\n",
    "\n",
    "def FindPath(phermatrix, graph, takeoff, destination, prevhob = -1):\n",
    "    \n",
    "    path = []\n",
    "    path.append(takeoff)\n",
    "    \n",
    "    while takeoff != destination:\n",
    "        \n",
    "        takeoff, prevhob = Nexthob(phermatrix, graph, takeoff, prevhob)\n",
    "        path.append(takeoff)\n",
    "        \n",
    "    Deloop(path)\n",
    "        \n",
    "    return path\n",
    "    "
   ]
  },
  {
   "cell_type": "code",
   "execution_count": 415,
   "metadata": {},
   "outputs": [
    {
     "data": {
      "text/plain": [
       "([[1, 1, 1, 1, 1],\n",
       "  [1, 1, 1, 1, 1],\n",
       "  [1, 1, 1, 1, 1],\n",
       "  [1, 1, 1, 1, 1],\n",
       "  [1, 1, 1, 1, 1]],\n",
       " [[0, 0, 1, 0, 1],\n",
       "  [0, 0, 0, 1, 0],\n",
       "  [1, 0, 0, 1, 0],\n",
       "  [0, 1, 1, 0, 1],\n",
       "  [1, 0, 0, 1, 0]])"
      ]
     },
     "execution_count": 415,
     "metadata": {},
     "output_type": "execute_result"
    }
   ],
   "source": [
    "P = FirstPheromone(5)\n",
    "G = Graph(5) \n",
    "\n",
    "P,G"
   ]
  },
  {
   "cell_type": "code",
   "execution_count": 416,
   "metadata": {},
   "outputs": [
    {
     "name": "stdout",
     "output_type": "stream",
     "text": [
      "[0, 4]\n",
      "[0, 2, 3, 4]\n",
      "[0, 4]\n",
      "[0, 4]\n",
      "[0, 2, 3, 4]\n",
      "[0, 4]\n",
      "[0, 4]\n",
      "[0, 4]\n",
      "[0, 2, 3, 4]\n",
      "[0, 4]\n"
     ]
    }
   ],
   "source": [
    "for i in range(10):\n",
    "    print(FindPath(P, G, 0, 4))"
   ]
  },
  {
   "cell_type": "code",
   "execution_count": 417,
   "metadata": {},
   "outputs": [],
   "source": [
    "# Eliminate Loops \n",
    "\n",
    "def Deloop(x):\n",
    "    l = len(x)\n",
    "\n",
    "    for i in range(l):\n",
    "        for j in range(i+1,l):\n",
    "            j = l+i-j\n",
    "            \n",
    "            if j < len(x):          # list changes as loop is removed \n",
    "                if x[i] == x[j]:\n",
    "                    # print(\"Delooping:  \", x)\n",
    "                    [x.remove(k) for k in x[i+1:j+1]]\n",
    "                    # print(\"Delooped to: \", x)\n",
    "    return x"
   ]
  },
  {
   "cell_type": "code",
   "execution_count": 418,
   "metadata": {},
   "outputs": [],
   "source": [
    "# Update Pheromone in visited arcs\n",
    "\n",
    "def UpPheromone(route, matrix):\n",
    "    \n",
    "    for i in range(len(route)-1):\n",
    "        \n",
    "        matrix[route[i]][route[i+1]] += 1\n",
    "        matrix[route[i+1]][route[i]] += 1\n",
    "\n",
    "    return matrix"
   ]
  },
  {
   "cell_type": "code",
   "execution_count": 419,
   "metadata": {},
   "outputs": [
    {
     "name": "stdout",
     "output_type": "stream",
     "text": [
      "[[0, 0, 1, 1, 0], [0, 0, 1, 0, 1], [1, 1, 0, 1, 1], [1, 0, 1, 0, 0], [0, 1, 1, 0, 0]]\n",
      "[0, 2, 1, 4]\n"
     ]
    },
    {
     "data": {
      "text/plain": [
       "([[1, 1, 2, 1, 1],\n",
       "  [1, 1, 2, 1, 2],\n",
       "  [2, 2, 1, 1, 1],\n",
       "  [1, 1, 1, 1, 1],\n",
       "  [1, 2, 1, 1, 1]],\n",
       " [[0, 0, 1, 1, 0],\n",
       "  [0, 0, 0, 0, 1],\n",
       "  [0, 1, 0, 1, 1],\n",
       "  [1, 0, 1, 0, 0],\n",
       "  [0, 1, 1, 0, 0]])"
      ]
     },
     "execution_count": 419,
     "metadata": {},
     "output_type": "execute_result"
    }
   ],
   "source": [
    "P = FirstPheromone(5)\n",
    "G = Graph(5) \n",
    "print(G)\n",
    "kk = FindPath(P, G, 0, 4)\n",
    "print(kk)\n",
    "UpPheromone(kk, P), G"
   ]
  },
  {
   "cell_type": "code",
   "execution_count": 420,
   "metadata": {},
   "outputs": [
    {
     "data": {
      "text/plain": [
       "([[1, 1, 3, 5, 1],\n",
       "  [1, 1, 2, 1, 2],\n",
       "  [3, 2, 1, 5, 6],\n",
       "  [5, 1, 5, 1, 1],\n",
       "  [1, 2, 6, 1, 1]],\n",
       " [[0, 2, 4], [0, 3, 2, 4], [0, 3, 2, 4], [0, 3, 2, 4], [0, 3, 2, 4]])"
      ]
     },
     "execution_count": 420,
     "metadata": {},
     "output_type": "execute_result"
    }
   ],
   "source": [
    "an = []\n",
    "for i in range(5):\n",
    "    a = FindPath(P, G, 0, 4)\n",
    "    an.append(a)\n",
    "for i in an:\n",
    "    P = UpPheromone(i, P)\n",
    "P, an"
   ]
  },
  {
   "cell_type": "code",
   "execution_count": 421,
   "metadata": {},
   "outputs": [
    {
     "data": {
      "text/plain": [
       "[[0, 0, 1, 1, 0],\n",
       " [0, 0, 0, 1, 0],\n",
       " [1, 0, 0, 1, 1],\n",
       " [1, 1, 1, 0, 0],\n",
       " [0, 0, 1, 0, 0]]"
      ]
     },
     "execution_count": 421,
     "metadata": {},
     "output_type": "execute_result"
    }
   ],
   "source": [
    "Gr = Graph(hobs)\n",
    "Gr"
   ]
  },
  {
   "cell_type": "code",
   "execution_count": 410,
   "metadata": {},
   "outputs": [],
   "source": [
    "# Simple Ant Colony Optimiza\n",
    "\n",
    "def ACO(hobs, ants, starthob, destination, runs = 50, pheromone = None, graph = None):\n",
    "    \n",
    "    Pher = FirstPheromone(hobs)\n",
    "    Gr = Graph(hobs)\n",
    "    print(Gr)\n",
    "    \n",
    "    i = 0\n",
    "    while i < runs:\n",
    "        Ants = []\n",
    "        \n",
    "        for j in range(ants):\n",
    "            #print(j)\n",
    "            stof = FindPath(Pher, Gr, starthob, destination)\n",
    "            Ants.append(stof)\n",
    "            \n",
    "        for j in Ants:\n",
    "            UpPheromone(j, Pher)\n",
    "            \n",
    "        i += 1 \n",
    "        \n",
    "    return Ants, Pher, Gr\n",
    "        "
   ]
  },
  {
   "cell_type": "code",
   "execution_count": 413,
   "metadata": {},
   "outputs": [
    {
     "name": "stdout",
     "output_type": "stream",
     "text": [
      "[[0, 1, 0, 1, 1], [1, 0, 1, 1, 1], [0, 1, 0, 1, 1], [1, 1, 1, 0, 0], [1, 1, 1, 0, 0]]\n"
     ]
    },
    {
     "data": {
      "text/plain": [
       "([[1, 0, 4], [1, 0, 3, 2, 4], [1, 0, 4], [1, 0, 4], [1, 3, 2, 4]],\n",
       " [[1, 171, 1, 53, 119],\n",
       "  [171, 1, 1, 113, 219],\n",
       "  [1, 1, 1, 165, 165],\n",
       "  [53, 113, 165, 1, 1],\n",
       "  [119, 219, 165, 1, 1]],\n",
       " [[0, 0, 0, 1, 1],\n",
       "  [1, 0, 0, 1, 1],\n",
       "  [0, 1, 0, 0, 1],\n",
       "  [0, 0, 1, 0, 0],\n",
       "  [1, 1, 1, 0, 0]])"
      ]
     },
     "execution_count": 413,
     "metadata": {},
     "output_type": "execute_result"
    }
   ],
   "source": [
    "hobs = 5\n",
    "ants = 5\n",
    "runs = 100\n",
    "S = 1\n",
    "D = hobs-1\n",
    "ACO(hobs, ants, S, D, runs)"
   ]
  },
  {
   "cell_type": "code",
   "execution_count": null,
   "metadata": {},
   "outputs": [],
   "source": []
  }
 ],
 "metadata": {
  "kernelspec": {
   "display_name": "Python [default]",
   "language": "python",
   "name": "python3"
  },
  "language_info": {
   "codemirror_mode": {
    "name": "ipython",
    "version": 3
   },
   "file_extension": ".py",
   "mimetype": "text/x-python",
   "name": "python",
   "nbconvert_exporter": "python",
   "pygments_lexer": "ipython3",
   "version": "3.5.6"
  }
 },
 "nbformat": 4,
 "nbformat_minor": 2
}
